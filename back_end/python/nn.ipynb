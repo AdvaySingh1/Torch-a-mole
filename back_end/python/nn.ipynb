{
 "cells": [
  {
   "cell_type": "code",
   "execution_count": 84,
   "metadata": {},
   "outputs": [],
   "source": [
    "import pandas as pd\n",
    "import numpy as np\n",
    "import matplotlib.pyplot as plt\n",
    "import os\n",
    "import torch\n",
    "import json\n",
    "import time\n",
    "import random\n",
    "\n",
    "w_dir = '/Users/advaysingh/Documents/projects/torch-a-mole'"
   ]
  },
  {
   "cell_type": "code",
   "execution_count": 86,
   "metadata": {},
   "outputs": [],
   "source": [
    "def mole_data_init():\n",
    "    with open(os.path.join(w_dir, 'server/data.json'), 'r') as file:\n",
    "        data = json.load(file)\n",
    "        for obj in data:\n",
    "            obj['Holes'] = torch.rand(3, 3).detach().numpy().tolist()\n",
    "            obj[\"Color\"] = random.sample(range(0, 255), 3) # change later\n",
    "    try:    \n",
    "        with open(os.path.join(w_dir, 'server/data.json'), 'w') as file:\n",
    "            json.dump(data, file, indent=4, sort_keys=True, separators=(',', ': '))\n",
    "    except Exception as e:\n",
    "        print(\"erro updating file\")\n",
    "\n",
    "mole_data_init()"
   ]
  }
 ],
 "metadata": {
  "kernelspec": {
   "display_name": "Python 3",
   "language": "python",
   "name": "python3"
  },
  "language_info": {
   "codemirror_mode": {
    "name": "ipython",
    "version": 3
   },
   "file_extension": ".py",
   "mimetype": "text/x-python",
   "name": "python",
   "nbconvert_exporter": "python",
   "pygments_lexer": "ipython3",
   "version": "3.9.6"
  }
 },
 "nbformat": 4,
 "nbformat_minor": 2
}
