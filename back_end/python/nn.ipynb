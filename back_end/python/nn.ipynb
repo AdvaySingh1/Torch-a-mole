{
 "cells": [
  {
   "cell_type": "code",
   "execution_count": 121,
   "metadata": {},
   "outputs": [],
   "source": [
    "import pandas as pd\n",
    "import numpy as np\n",
    "import matplotlib.pyplot as plt\n",
    "import os\n",
    "import torch\n",
    "from torch import nn\n",
    "import json\n",
    "import time\n",
    "import random\n",
    "\n",
    "w_dir = '/Users/advaysingh/Documents/projects/torch-a-mole'"
   ]
  },
  {
   "cell_type": "code",
   "execution_count": 114,
   "metadata": {},
   "outputs": [
    {
     "name": "stdout",
     "output_type": "stream",
     "text": [
      "Using mps device\n"
     ]
    }
   ],
   "source": [
    "device = (\n",
    "    \"cuda\"\n",
    "    if torch.cuda.is_available()\n",
    "    else \"mps\"\n",
    "    if torch.backends.mps.is_available()\n",
    "    else \"cpu\"\n",
    ")\n",
    "print(f\"Using {device} device\")"
   ]
  },
  {
   "cell_type": "code",
   "execution_count": 135,
   "metadata": {},
   "outputs": [
    {
     "name": "stdout",
     "output_type": "stream",
     "text": [
      "[[0.33763229846954346, 0.7689689993858337, 0.742918848991394, 0.17898356914520264, 0.1617366075515747, 0.09558546543121338, 0.6194491386413574, 0.26039761304855347, 0.9343894124031067, 0.8330562710762024, 0.7173267006874084, 0.9047826528549194, 0.8307545185089111, 0.37272751331329346, 0.47418445348739624, 0.816602885723114, 0.32644128799438477, 0.09454464912414551, 0.3052184581756592, 0.7563353180885315, 0.40338844060897827, 0.3142780661582947, 0.5091099739074707, 0.5621365904808044, 0.5598822236061096, 0.12785929441452026, 0.5092769861221313, 0.883289098739624, 0.6078305244445801, 0.14287346601486206]]\n",
      "[[0.07681185007095337, 0.7935903668403625, 0.9500502347946167, 0.33662116527557373, 0.631409227848053, 0.4312400221824646, 0.39435863494873047, 0.01768404245376587, 0.9020014405250549, 0.9773791432380676, 0.3087182641029358, 0.8863639831542969, 0.2050154209136963, 0.906592845916748, 0.3083520531654358, 0.8692402839660645, 0.2386985421180725, 0.16051989793777466, 0.30795061588287354, 0.2707167863845825, 0.050915300846099854, 0.6977630257606506, 0.27071356773376465, 0.7573631405830383, 0.4610881805419922, 0.3479020595550537, 0.5228622555732727, 0.04267388582229614, 0.5202720165252686, 0.7464392781257629]]\n",
      "[[0.9858914017677307, 0.9758583307266235, 0.32481706142425537, 0.23197829723358154, 0.7952223420143127, 0.8957321047782898, 0.37454450130462646, 0.4762430191040039, 0.08358019590377808, 0.4416990280151367, 0.23982709646224976, 0.36224985122680664, 0.42490220069885254, 0.8697324395179749, 0.9365904331207275, 0.4545571804046631, 0.38840991258621216, 0.878425121307373, 0.8604496121406555, 0.6836268901824951, 0.15205979347229004, 0.4637930393218994, 0.8623781800270081, 0.7406340837478638, 0.07562124729156494, 0.04033684730529785, 0.9622549414634705, 0.8610292673110962, 0.22950732707977295, 0.5080457329750061]]\n"
     ]
    }
   ],
   "source": [
    "def mole_data_init():\n",
    "    try: \n",
    "        with open(os.path.join(w_dir, 'server/data.json'), 'r') as file:\n",
    "            data = json.load(file)\n",
    "            for obj in data:\n",
    "                #obj['Data'] = []\n",
    "                print(obj['Data'])\n",
    "                obj['Data'] = torch.rand(1, 30).detach().numpy().tolist()\n",
    "                #obj['Data'].append(torch.rand(1, 13).detach().numpy().tolist())\n",
    "                #obj[\"Color\"] = random.sample(range(0, 255), 3) # change later \n",
    "        with open(os.path.join(w_dir, 'server/data.json'), 'w') as file:\n",
    "            json.dump(data, file, indent=4, sort_keys=True, separators=(',', ': '))\n",
    "    except Exception as e:\n",
    "        print(\"error updating file\")\n",
    "\n",
    "mole_data_init()"
   ]
  }
 ],
 "metadata": {
  "kernelspec": {
   "display_name": "Python 3",
   "language": "python",
   "name": "python3"
  },
  "language_info": {
   "codemirror_mode": {
    "name": "ipython",
    "version": 3
   },
   "file_extension": ".py",
   "mimetype": "text/x-python",
   "name": "python",
   "nbconvert_exporter": "python",
   "pygments_lexer": "ipython3",
   "version": "3.9.6"
  }
 },
 "nbformat": 4,
 "nbformat_minor": 2
}
