{
 "cells": [
  {
   "cell_type": "code",
   "execution_count": 121,
   "metadata": {},
   "outputs": [],
   "source": [
    "import pandas as pd\n",
    "import numpy as np\n",
    "import matplotlib.pyplot as plt\n",
    "import os\n",
    "import torch\n",
    "from torch import nn\n",
    "import json\n",
    "import time\n",
    "import random\n",
    "\n",
    "w_dir = '/Users/advaysingh/Documents/projects/torch-a-mole'"
   ]
  },
  {
   "cell_type": "code",
   "execution_count": 114,
   "metadata": {},
   "outputs": [
    {
     "name": "stdout",
     "output_type": "stream",
     "text": [
      "Using mps device\n"
     ]
    }
   ],
   "source": [
    "device = (\n",
    "    \"cuda\"\n",
    "    if torch.cuda.is_available()\n",
    "    else \"mps\"\n",
    "    if torch.backends.mps.is_available()\n",
    "    else \"cpu\"\n",
    ")\n",
    "print(f\"Using {device} device\")"
   ]
  },
  {
   "cell_type": "code",
   "execution_count": 138,
   "metadata": {},
   "outputs": [],
   "source": [
    "def mole_data_init():\n",
    "    try: \n",
    "        with open(os.path.join(w_dir, 'server/data.json'), 'r') as file:\n",
    "            data = json.load(file)\n",
    "            for obj in data:\n",
    "                obj['Data'] = torch.rand(30).tolist()\n",
    "        with open(os.path.join(w_dir, 'server/data.json'), 'w') as file:\n",
    "            json.dump(data, file, indent=4, sort_keys=True, separators=(',', ': '))\n",
    "    except Exception as e:\n",
    "        print(\"error updating file\")\n",
    "\n",
    "mole_data_init()"
   ]
  },
  {
   "cell_type": "code",
   "execution_count": 139,
   "metadata": {},
   "outputs": [],
   "source": [
    "with open(os.path.join(w_dir, 'server/data.json'), 'r') as file:\n",
    "    data = json.load(file)\n",
    "    for obj in data:\n",
    "        obj['Data_mole'] = torch.rand(13).tolist()\n",
    "with open(os.path.join(w_dir, 'server/data.json'), 'w') as file:\n",
    "    json.dump(data, file, indent=4, sort_keys=True, separators=(',', ': '))"
   ]
  }
 ],
 "metadata": {
  "kernelspec": {
   "display_name": "Python 3",
   "language": "python",
   "name": "python3"
  },
  "language_info": {
   "codemirror_mode": {
    "name": "ipython",
    "version": 3
   },
   "file_extension": ".py",
   "mimetype": "text/x-python",
   "name": "python",
   "nbconvert_exporter": "python",
   "pygments_lexer": "ipython3",
   "version": "3.9.6"
  }
 },
 "nbformat": 4,
 "nbformat_minor": 2
}
